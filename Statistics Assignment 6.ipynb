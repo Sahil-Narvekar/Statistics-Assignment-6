{
 "cells": [
  {
   "cell_type": "code",
   "execution_count": null,
   "metadata": {},
   "outputs": [],
   "source": [
    "1. Give an example of 3 events A, B, C which are pairwise independent but not independent.\n",
    "Hint: find an example where whether C occurs is completely determined if we know whether\n",
    "A occurred and whether B occurred, but completely undetermined if we know only one of\n",
    "these things."
   ]
  },
  {
   "cell_type": "code",
   "execution_count": null,
   "metadata": {},
   "outputs": [],
   "source": [
    "Consider two , independent coin tosses \n",
    "A  event that the first toss is Heads, \n",
    "B  event that the second toss is Heads,\n",
    "C  event that the two tosses have the same result.\n",
    "Then A, B, C are dependent since P(A\\B \\ C) = P(A\\B) = P(A)P(B)=1/4 != 1/8 = P(A)P(B)P(C),\n",
    "but they are pairwise independent: A and B are independent by definition; A\n",
    "and C are independent since P(A \\ C) = P(A \\ B)=1/4 = P(A)P(C), and\n",
    "similarly B and C are independent."
   ]
  },
  {
   "cell_type": "code",
   "execution_count": null,
   "metadata": {},
   "outputs": [],
   "source": [
    "2. A bag contains one marble which is either green or blue, with equal probabilities. A green\n",
    "marble is put in the bag (so there are 2 marbles now), and then a random marble is taken\n",
    "out. The marble taken out is green. What is the probability that the remaining marble is also\n",
    "green?"
   ]
  },
  {
   "cell_type": "code",
   "execution_count": null,
   "metadata": {},
   "outputs": [],
   "source": [
    "P(G)-Probability of the initial marble being green\n",
    "P(B)-Probability of both marble being green=0.5\n",
    "P(O)-Probability of one marble being green and other marble blue\n",
    "P(B/G)=P(G/B)*P(B)/P(G)\n",
    "\n",
    "P(G)=(P(G/B)*P(B)+P(G/O)*P(O))\n",
    "P(G)=1*0.5+0.5*0.5\n",
    "P(G)=0.75\n",
    "P(B/G)=1*0.5/0.75\n",
    "P(B/G)=2/3"
   ]
  }
 ],
 "metadata": {
  "kernelspec": {
   "display_name": "Python 3",
   "language": "python",
   "name": "python3"
  },
  "language_info": {
   "codemirror_mode": {
    "name": "ipython",
    "version": 3
   },
   "file_extension": ".py",
   "mimetype": "text/x-python",
   "name": "python",
   "nbconvert_exporter": "python",
   "pygments_lexer": "ipython3",
   "version": "3.8.3"
  }
 },
 "nbformat": 4,
 "nbformat_minor": 4
}
